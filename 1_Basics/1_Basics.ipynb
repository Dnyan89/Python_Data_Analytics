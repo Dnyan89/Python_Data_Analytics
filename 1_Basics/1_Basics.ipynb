{
  "nbformat": 4,
  "nbformat_minor": 0,
  "metadata": {
    "colab": {
      "provenance": []
    },
    "kernelspec": {
      "name": "python3",
      "display_name": "Python 3"
    },
    "language_info": {
      "name": "python"
    }
  },
  "cells": [
    {
      "cell_type": "markdown",
      "source": [
        "# Variables"
      ],
      "metadata": {
        "id": "adANHl5EfkOA"
      }
    },
    {
      "cell_type": "code",
      "source": [
        "base_salary = 120000\n",
        "bonus = 20000\n",
        "total_compensation = base_salary + bonus\n",
        "print(total_compensation)"
      ],
      "metadata": {
        "colab": {
          "base_uri": "https://localhost:8080/"
        },
        "id": "EJQR6HPHfAIh",
        "outputId": "33dcbd13-aec9-475e-8df4-32ba9f47fa4d"
      },
      "execution_count": null,
      "outputs": [
        {
          "output_type": "stream",
          "name": "stdout",
          "text": [
            "140000\n"
          ]
        }
      ]
    },
    {
      "cell_type": "code",
      "source": [
        "annual_salary = 72000\n",
        "total_month = 12\n",
        "monthly_salary = annual_salary / total_month\n",
        "print(monthly_salary)"
      ],
      "metadata": {
        "colab": {
          "base_uri": "https://localhost:8080/"
        },
        "id": "fesXXDu5fXpZ",
        "outputId": "3732314c-d8b4-42dc-e94f-d65637d5c11f"
      },
      "execution_count": null,
      "outputs": [
        {
          "output_type": "stream",
          "name": "stdout",
          "text": [
            "6000.0\n"
          ]
        }
      ]
    },
    {
      "cell_type": "code",
      "source": [
        "job_title = 'Data Scientist'\n",
        "company_name = 'AI Solutions'\n",
        "annual_salary2 = 110000\n",
        "bonus2 = annual_salary2*0.10\n",
        "compensation = annual_salary2 + bonus2\n",
        "print(job_title, company_name, compensation)"
      ],
      "metadata": {
        "colab": {
          "base_uri": "https://localhost:8080/"
        },
        "id": "c4zLVXzcgHRm",
        "outputId": "c50479e0-f6af-4508-b123-8e4b09cee387"
      },
      "execution_count": null,
      "outputs": [
        {
          "output_type": "stream",
          "name": "stdout",
          "text": [
            "Data Scientist AI Solutions 121000.0\n"
          ]
        }
      ]
    },
    {
      "cell_type": "markdown",
      "source": [
        "# Strings"
      ],
      "metadata": {
        "id": "0S1txrbvuVSp"
      }
    },
    {
      "cell_type": "code",
      "source": [
        "job_title = 'data scientist'\n",
        "job_title.upper()"
      ],
      "metadata": {
        "colab": {
          "base_uri": "https://localhost:8080/",
          "height": 35
        },
        "id": "EIb6PizUhA7O",
        "outputId": "8147f6ea-3754-4eb4-dcad-dc570cb1de53"
      },
      "execution_count": null,
      "outputs": [
        {
          "output_type": "execute_result",
          "data": {
            "text/plain": [
              "'DATA SCIENTIST'"
            ],
            "application/vnd.google.colaboratory.intrinsic+json": {
              "type": "string"
            }
          },
          "metadata": {},
          "execution_count": 4
        }
      ]
    },
    {
      "cell_type": "code",
      "source": [
        "job_title = 'Data Analyst'\n",
        "job_title_replaced = job_title.replace('Analyst', 'Enginner', 1)\n",
        "job_title_replaced"
      ],
      "metadata": {
        "colab": {
          "base_uri": "https://localhost:8080/",
          "height": 35
        },
        "id": "m53Mc1bYugzA",
        "outputId": "9094d727-fc25-4e77-d9e6-8951e5026e57"
      },
      "execution_count": null,
      "outputs": [
        {
          "output_type": "execute_result",
          "data": {
            "text/plain": [
              "'Data Enginner'"
            ],
            "application/vnd.google.colaboratory.intrinsic+json": {
              "type": "string"
            }
          },
          "metadata": {},
          "execution_count": 5
        }
      ]
    },
    {
      "cell_type": "code",
      "source": [
        "seniority_level = 'Senior'\n",
        "job_title = 'Data Analyst'\n",
        "new_title = seniority_level + ' ' +job_title\n",
        "new_title"
      ],
      "metadata": {
        "colab": {
          "base_uri": "https://localhost:8080/",
          "height": 35
        },
        "id": "Q-e5J0rlvIq_",
        "outputId": "b3b89a82-3d83-4c81-dfd5-076ad5c4ad2e"
      },
      "execution_count": null,
      "outputs": [
        {
          "output_type": "execute_result",
          "data": {
            "text/plain": [
              "'Senior Data Analyst'"
            ],
            "application/vnd.google.colaboratory.intrinsic+json": {
              "type": "string"
            }
          },
          "metadata": {},
          "execution_count": 6
        }
      ]
    },
    {
      "cell_type": "code",
      "source": [
        "job_title = 'Data Analyst'\n",
        "len(job_title)"
      ],
      "metadata": {
        "colab": {
          "base_uri": "https://localhost:8080/"
        },
        "id": "pK4jQk8Tvjyz",
        "outputId": "559fd596-7409-4402-9461-2a8376427933"
      },
      "execution_count": null,
      "outputs": [
        {
          "output_type": "execute_result",
          "data": {
            "text/plain": [
              "12"
            ]
          },
          "metadata": {},
          "execution_count": 7
        }
      ]
    },
    {
      "cell_type": "code",
      "source": [
        "job_title = 'DATA ENGINEER'\n",
        "job_title.lower()"
      ],
      "metadata": {
        "colab": {
          "base_uri": "https://localhost:8080/",
          "height": 35
        },
        "id": "pBjwQyvhv523",
        "outputId": "8ddfbe6b-2dc7-4fd3-b046-d0e878e6fdbf"
      },
      "execution_count": null,
      "outputs": [
        {
          "output_type": "execute_result",
          "data": {
            "text/plain": [
              "'data engineer'"
            ],
            "application/vnd.google.colaboratory.intrinsic+json": {
              "type": "string"
            }
          },
          "metadata": {},
          "execution_count": 8
        }
      ]
    },
    {
      "cell_type": "markdown",
      "source": [
        "# String Formatting"
      ],
      "metadata": {
        "id": "khAbxppV1HDb"
      }
    },
    {
      "cell_type": "code",
      "source": [
        "job_title = 'Data Analyst'\n",
        "'Job Title:' + ' ' + job_title"
      ],
      "metadata": {
        "colab": {
          "base_uri": "https://localhost:8080/",
          "height": 35
        },
        "id": "t71O4tD7wzVF",
        "outputId": "6d1c3e46-8ad7-4c90-a020-fb1b02890850"
      },
      "execution_count": null,
      "outputs": [
        {
          "output_type": "execute_result",
          "data": {
            "text/plain": [
              "'Job Title: Data Analyst'"
            ],
            "application/vnd.google.colaboratory.intrinsic+json": {
              "type": "string"
            }
          },
          "metadata": {},
          "execution_count": 9
        }
      ]
    },
    {
      "cell_type": "code",
      "source": [
        "position = 'Data Scientist'\n",
        "company = 'DataWiz Inc.'\n",
        "f\"{position} at {company}\""
      ],
      "metadata": {
        "colab": {
          "base_uri": "https://localhost:8080/",
          "height": 35
        },
        "id": "Yws05dQZ1U0V",
        "outputId": "60aa2ed3-9171-4b21-abbb-c40aab71386f"
      },
      "execution_count": null,
      "outputs": [
        {
          "output_type": "execute_result",
          "data": {
            "text/plain": [
              "'Data Scientist at DataWiz Inc.'"
            ],
            "application/vnd.google.colaboratory.intrinsic+json": {
              "type": "string"
            }
          },
          "metadata": {},
          "execution_count": 10
        }
      ]
    },
    {
      "cell_type": "code",
      "source": [
        "role = 'Data Analyst'\n",
        "skill = 'Python'\n",
        "'Role: {}, Skill: {}'.format(role, skill)"
      ],
      "metadata": {
        "colab": {
          "base_uri": "https://localhost:8080/",
          "height": 35
        },
        "id": "eZWSxkGP1uPc",
        "outputId": "46685b26-11db-45af-d54b-eda04063c413"
      },
      "execution_count": null,
      "outputs": [
        {
          "output_type": "execute_result",
          "data": {
            "text/plain": [
              "'Role: Data Analyst, Skill: Python'"
            ],
            "application/vnd.google.colaboratory.intrinsic+json": {
              "type": "string"
            }
          },
          "metadata": {},
          "execution_count": 11
        }
      ]
    },
    {
      "cell_type": "code",
      "source": [
        "role = 'Data Engineer'\n",
        "skill = 'SQL'\n",
        "'Role: %s, Skill: %s' %(role, skill)"
      ],
      "metadata": {
        "colab": {
          "base_uri": "https://localhost:8080/",
          "height": 35
        },
        "id": "1RVcxEJJ2QBH",
        "outputId": "6f1c6af9-a783-4ac3-921e-0effd92c8ae4"
      },
      "execution_count": null,
      "outputs": [
        {
          "output_type": "execute_result",
          "data": {
            "text/plain": [
              "'Role: Data Engineer, Skill: SQL'"
            ],
            "application/vnd.google.colaboratory.intrinsic+json": {
              "type": "string"
            }
          },
          "metadata": {},
          "execution_count": 12
        }
      ]
    },
    {
      "cell_type": "markdown",
      "source": [
        "# Operators"
      ],
      "metadata": {
        "id": "DnkX1yI38aXe"
      }
    },
    {
      "cell_type": "code",
      "source": [
        "monhly_salary = 8000\n",
        "annual_salary = monthly_salary * 12\n",
        "annual_salary"
      ],
      "metadata": {
        "colab": {
          "base_uri": "https://localhost:8080/"
        },
        "id": "EeM4qloa2lOe",
        "outputId": "6d94a9f7-8f6b-4db8-fc41-fe2a7b790387"
      },
      "execution_count": null,
      "outputs": [
        {
          "output_type": "execute_result",
          "data": {
            "text/plain": [
              "72000.0"
            ]
          },
          "metadata": {},
          "execution_count": 13
        }
      ]
    },
    {
      "cell_type": "code",
      "source": [
        "avg_salary_analyst = 70000\n",
        "avg_salary_scientist = 85000\n",
        "avg_salary_analyst > avg_salary_scientist"
      ],
      "metadata": {
        "colab": {
          "base_uri": "https://localhost:8080/"
        },
        "id": "pXWOHfEs8kTg",
        "outputId": "42e1ae92-d08b-481e-ad1f-7deea7bede83"
      },
      "execution_count": null,
      "outputs": [
        {
          "output_type": "execute_result",
          "data": {
            "text/plain": [
              "False"
            ]
          },
          "metadata": {},
          "execution_count": 14
        }
      ]
    },
    {
      "cell_type": "code",
      "source": [
        "total_applications = 123\n",
        "job_openings = 67\n",
        "remainder = total_applications % job_openings\n",
        "remainder"
      ],
      "metadata": {
        "colab": {
          "base_uri": "https://localhost:8080/"
        },
        "id": "9dKUqcHK852C",
        "outputId": "82f65a8d-c153-495f-9cd4-43f3bfeffab0"
      },
      "execution_count": null,
      "outputs": [
        {
          "output_type": "execute_result",
          "data": {
            "text/plain": [
              "56"
            ]
          },
          "metadata": {},
          "execution_count": 15
        }
      ]
    },
    {
      "cell_type": "code",
      "source": [
        "job_postings = 20\n",
        "job_postings += 5\n",
        "job_postings"
      ],
      "metadata": {
        "colab": {
          "base_uri": "https://localhost:8080/"
        },
        "id": "Kc5DkyON_gzP",
        "outputId": "14c701f2-a449-4ab9-8110-013246f0b52e"
      },
      "execution_count": null,
      "outputs": [
        {
          "output_type": "execute_result",
          "data": {
            "text/plain": [
              "25"
            ]
          },
          "metadata": {},
          "execution_count": 16
        }
      ]
    },
    {
      "cell_type": "code",
      "source": [
        "min_salary = 50000\n",
        "max_salary = 120000\n",
        "avg_salary = (min_salary + max_salary) / 2\n",
        "avg_salary"
      ],
      "metadata": {
        "colab": {
          "base_uri": "https://localhost:8080/"
        },
        "id": "4oGj56D3_-Hj",
        "outputId": "6744caa5-294e-4a8f-db23-e2ef0a4b6150"
      },
      "execution_count": null,
      "outputs": [
        {
          "output_type": "execute_result",
          "data": {
            "text/plain": [
              "85000.0"
            ]
          },
          "metadata": {},
          "execution_count": 17
        }
      ]
    },
    {
      "cell_type": "markdown",
      "source": [
        "# Conditional statements"
      ],
      "metadata": {
        "id": "M5oOWOgQFieF"
      }
    },
    {
      "cell_type": "code",
      "source": [
        "python_experience = 3\n",
        "\n",
        "if python_experience == 3:\n",
        "  print('Intermediate')\n",
        "else:\n",
        "  print('Beginner')"
      ],
      "metadata": {
        "colab": {
          "base_uri": "https://localhost:8080/"
        },
        "id": "N6lp5CPMAPT5",
        "outputId": "23f27534-70b0-4107-b37d-05399e40e52f"
      },
      "execution_count": null,
      "outputs": [
        {
          "output_type": "stream",
          "name": "stdout",
          "text": [
            "Intermediate\n"
          ]
        }
      ]
    },
    {
      "cell_type": "code",
      "source": [
        "tools_known = 5\n",
        "\n",
        "if tools_known <= 1:\n",
        "  skill_level = 'Beginner'\n",
        "elif tools_known <=4:\n",
        "  skill_level = 'Intermediate'\n",
        "else:\n",
        "  skill_level = 'Advanced'\n",
        "\n",
        "skill_level"
      ],
      "metadata": {
        "colab": {
          "base_uri": "https://localhost:8080/",
          "height": 35
        },
        "id": "vOMVF02VFeKS",
        "outputId": "d8d3de5f-afb5-421b-a35d-365ab4757f56"
      },
      "execution_count": null,
      "outputs": [
        {
          "output_type": "execute_result",
          "data": {
            "text/plain": [
              "'Advanced'"
            ],
            "application/vnd.google.colaboratory.intrinsic+json": {
              "type": "string"
            }
          },
          "metadata": {},
          "execution_count": 19
        }
      ]
    },
    {
      "cell_type": "code",
      "source": [
        "job_experience = 4\n",
        "sql_experience = 2\n",
        "\n",
        "if job_experience <2:\n",
        "  job_title = 'Junior Analyst'\n",
        "elif job_experience <=5 and sql_experience == 1:\n",
        "  job_title = 'Intermediate Analyst'\n",
        "elif job_experience <=5 and sql_experience >= 2:\n",
        "  job_title = 'Senior Analyst'\n",
        "elif job_experience >5 and sql_experience >= 3:\n",
        "  job_title = 'Lead Analyst'\n",
        "else:\n",
        "  job_title = 'Data Analyst'\n",
        "\n",
        "job_title"
      ],
      "metadata": {
        "colab": {
          "base_uri": "https://localhost:8080/",
          "height": 35
        },
        "id": "_9xkdLwQGb2I",
        "outputId": "cf850b9c-2153-4465-d628-43fa4a6043a1"
      },
      "execution_count": null,
      "outputs": [
        {
          "output_type": "execute_result",
          "data": {
            "text/plain": [
              "'Senior Analyst'"
            ],
            "application/vnd.google.colaboratory.intrinsic+json": {
              "type": "string"
            }
          },
          "metadata": {},
          "execution_count": 20
        }
      ]
    },
    {
      "cell_type": "markdown",
      "source": [
        "# Lists"
      ],
      "metadata": {
        "id": "hFvOOo_cQgi-"
      }
    },
    {
      "cell_type": "code",
      "source": [
        "job_titles = ['Data Scientist', 'Data Analyst', 'Machine Learning Engineer']\n",
        "\n",
        "job_titles[1]"
      ],
      "metadata": {
        "colab": {
          "base_uri": "https://localhost:8080/",
          "height": 35
        },
        "id": "y7S4ykkRQiz3",
        "outputId": "0ad67d55-8f29-4415-d1e2-199e5b3ffff4"
      },
      "execution_count": null,
      "outputs": [
        {
          "output_type": "execute_result",
          "data": {
            "text/plain": [
              "'Data Analyst'"
            ],
            "application/vnd.google.colaboratory.intrinsic+json": {
              "type": "string"
            }
          },
          "metadata": {},
          "execution_count": 21
        }
      ]
    },
    {
      "cell_type": "code",
      "source": [
        "job_titles = ['Data Scientist', 'Data Analyst', 'Machine Learning Engineer']\n",
        "\n",
        "job_titles.pop(1)"
      ],
      "metadata": {
        "colab": {
          "base_uri": "https://localhost:8080/",
          "height": 35
        },
        "id": "ZRV97A3iQqM3",
        "outputId": "41cce27b-36af-4c46-a1dc-78539f882fc5"
      },
      "execution_count": null,
      "outputs": [
        {
          "output_type": "execute_result",
          "data": {
            "text/plain": [
              "'Data Analyst'"
            ],
            "application/vnd.google.colaboratory.intrinsic+json": {
              "type": "string"
            }
          },
          "metadata": {},
          "execution_count": 22
        }
      ]
    },
    {
      "cell_type": "code",
      "source": [
        "job_titles"
      ],
      "metadata": {
        "colab": {
          "base_uri": "https://localhost:8080/"
        },
        "id": "IbWLohJ1RILC",
        "outputId": "c8c27056-9d04-4aa7-981e-bac19ba41d81"
      },
      "execution_count": null,
      "outputs": [
        {
          "output_type": "execute_result",
          "data": {
            "text/plain": [
              "['Data Scientist', 'Machine Learning Engineer']"
            ]
          },
          "metadata": {},
          "execution_count": 23
        }
      ]
    },
    {
      "cell_type": "code",
      "source": [
        "job_titles = ['Data Scientist', 'Data Analyst', 'Machine Learning Engineer']\n",
        "\n",
        "job_titles.pop()\n",
        "job_titles.insert(2, 'AI Specialist')\n",
        "job_titles"
      ],
      "metadata": {
        "colab": {
          "base_uri": "https://localhost:8080/"
        },
        "id": "xjxUGIBmRNL1",
        "outputId": "2b033100-057b-42a3-b1f9-3da152a0c0bb"
      },
      "execution_count": null,
      "outputs": [
        {
          "output_type": "execute_result",
          "data": {
            "text/plain": [
              "['Data Scientist', 'Data Analyst', 'AI Specialist']"
            ]
          },
          "metadata": {},
          "execution_count": 24
        }
      ]
    },
    {
      "cell_type": "code",
      "source": [
        "job_titles = ['Data Scientist', 'Data Analyst', 'Machine Learning Engineer']\n",
        "job_titles[2] = 'AI Specialist'\n",
        "job_titles"
      ],
      "metadata": {
        "colab": {
          "base_uri": "https://localhost:8080/"
        },
        "id": "Gd8MfGYqReol",
        "outputId": "a151b87c-0254-4865-fc10-89b35a8480df"
      },
      "execution_count": null,
      "outputs": [
        {
          "output_type": "execute_result",
          "data": {
            "text/plain": [
              "['Data Scientist', 'Data Analyst', 'AI Specialist']"
            ]
          },
          "metadata": {},
          "execution_count": 25
        }
      ]
    },
    {
      "cell_type": "code",
      "source": [
        "job_titles = ['Data Scientist', 'Data Analyst', 'Machine Learning Engineer', 'Data Engineer']\n",
        "job_titles[:2]"
      ],
      "metadata": {
        "colab": {
          "base_uri": "https://localhost:8080/"
        },
        "id": "fDzZpmfsRs0W",
        "outputId": "3192d761-a112-4a79-be79-e64f48b9b0c7"
      },
      "execution_count": null,
      "outputs": [
        {
          "output_type": "execute_result",
          "data": {
            "text/plain": [
              "['Data Scientist', 'Data Analyst']"
            ]
          },
          "metadata": {},
          "execution_count": 26
        }
      ]
    },
    {
      "cell_type": "code",
      "source": [
        "job_titles = ['Data Scientist', 'Data Analyst', 'Machine Learning Engineer']\n",
        "job_titles.append('Data Engineer')"
      ],
      "metadata": {
        "id": "3PqlU2HxSAIp"
      },
      "execution_count": null,
      "outputs": []
    },
    {
      "cell_type": "code",
      "source": [
        "job_titles"
      ],
      "metadata": {
        "colab": {
          "base_uri": "https://localhost:8080/"
        },
        "id": "WafADWJrSnsE",
        "outputId": "877779cd-0b45-4537-8e3f-7807d5b0859c"
      },
      "execution_count": null,
      "outputs": [
        {
          "output_type": "execute_result",
          "data": {
            "text/plain": [
              "['Data Scientist',\n",
              " 'Data Analyst',\n",
              " 'Machine Learning Engineer',\n",
              " 'Data Engineer']"
            ]
          },
          "metadata": {},
          "execution_count": 28
        }
      ]
    },
    {
      "cell_type": "code",
      "source": [
        "job_titles = ['Data Scientist', 'Data Analyst', 'Machine Learning Engineer']\n",
        "job_titles.insert(1, 'Buisness Analyst')"
      ],
      "metadata": {
        "id": "TAXtQdQKSpZz"
      },
      "execution_count": null,
      "outputs": []
    },
    {
      "cell_type": "code",
      "source": [
        "job_titles"
      ],
      "metadata": {
        "colab": {
          "base_uri": "https://localhost:8080/"
        },
        "id": "alFMFrIDS_ES",
        "outputId": "c3429e38-40ec-4691-cfc0-688748a04bcd"
      },
      "execution_count": null,
      "outputs": [
        {
          "output_type": "execute_result",
          "data": {
            "text/plain": [
              "['Data Scientist',\n",
              " 'Buisness Analyst',\n",
              " 'Data Analyst',\n",
              " 'Machine Learning Engineer']"
            ]
          },
          "metadata": {},
          "execution_count": 30
        }
      ]
    },
    {
      "cell_type": "markdown",
      "source": [
        "### List unpacking"
      ],
      "metadata": {
        "id": "D4h_fQrqWYBV"
      }
    },
    {
      "cell_type": "code",
      "source": [
        "job1, job2, job3, job4 = job_titles\n",
        "print(job1)"
      ],
      "metadata": {
        "colab": {
          "base_uri": "https://localhost:8080/"
        },
        "id": "IyLIbRKcTBMG",
        "outputId": "633e40cd-4708-44eb-fe8c-19bed4f14131"
      },
      "execution_count": null,
      "outputs": [
        {
          "output_type": "stream",
          "name": "stdout",
          "text": [
            "Data Scientist\n"
          ]
        }
      ]
    },
    {
      "cell_type": "code",
      "source": [
        "job_titles"
      ],
      "metadata": {
        "colab": {
          "base_uri": "https://localhost:8080/"
        },
        "id": "QVL6m_lgWADa",
        "outputId": "4aa26769-deb2-4b70-9052-b2d1ac1361b7"
      },
      "execution_count": null,
      "outputs": [
        {
          "output_type": "execute_result",
          "data": {
            "text/plain": [
              "['Data Scientist',\n",
              " 'Buisness Analyst',\n",
              " 'Data Analyst',\n",
              " 'Machine Learning Engineer']"
            ]
          },
          "metadata": {},
          "execution_count": 32
        }
      ]
    },
    {
      "cell_type": "code",
      "source": [
        "job1, *rest_of_jobs = job_titles\n",
        "print(job1)\n",
        "print(rest_of_jobs)"
      ],
      "metadata": {
        "colab": {
          "base_uri": "https://localhost:8080/"
        },
        "id": "6o_mtSx2WBk3",
        "outputId": "118b5a78-2f18-445e-88b9-455078e49ec7"
      },
      "execution_count": null,
      "outputs": [
        {
          "output_type": "stream",
          "name": "stdout",
          "text": [
            "Data Scientist\n",
            "['Buisness Analyst', 'Data Analyst', 'Machine Learning Engineer']\n"
          ]
        }
      ]
    },
    {
      "cell_type": "code",
      "source": [
        "job_titles"
      ],
      "metadata": {
        "colab": {
          "base_uri": "https://localhost:8080/"
        },
        "id": "tzWlNSnUWUJN",
        "outputId": "d8e6dc12-2001-4d36-bfa9-c99b6444ac86"
      },
      "execution_count": null,
      "outputs": [
        {
          "output_type": "execute_result",
          "data": {
            "text/plain": [
              "['Data Scientist',\n",
              " 'Buisness Analyst',\n",
              " 'Data Analyst',\n",
              " 'Machine Learning Engineer']"
            ]
          },
          "metadata": {},
          "execution_count": 34
        }
      ]
    },
    {
      "cell_type": "markdown",
      "source": [
        "# Dictionaries"
      ],
      "metadata": {
        "id": "_0_6-4pcXRsC"
      }
    },
    {
      "cell_type": "code",
      "source": [
        "job_postings = {'Data Scientist': 120, 'Data Analyst': 80, 'Machine Learning Engineer': 50}\n",
        "job_postings['Data Analyst']"
      ],
      "metadata": {
        "colab": {
          "base_uri": "https://localhost:8080/"
        },
        "id": "kryKngXbWV3X",
        "outputId": "10bdd02a-0383-4cdf-efd3-75d1f763ea3d"
      },
      "execution_count": null,
      "outputs": [
        {
          "output_type": "execute_result",
          "data": {
            "text/plain": [
              "80"
            ]
          },
          "metadata": {},
          "execution_count": 35
        }
      ]
    },
    {
      "cell_type": "code",
      "source": [
        "job_postings = {'Data Scientist': 120, 'Data Analyst': 80, 'Machine Learning Engineer': 50}\n",
        "job_postings['AI Specialist'] = 30\n",
        "job_postings"
      ],
      "metadata": {
        "colab": {
          "base_uri": "https://localhost:8080/"
        },
        "id": "0y6aBCkOXdHA",
        "outputId": "ad82d1da-c3a6-40f3-ff56-d1cab69e1794"
      },
      "execution_count": null,
      "outputs": [
        {
          "output_type": "execute_result",
          "data": {
            "text/plain": [
              "{'Data Scientist': 120,\n",
              " 'Data Analyst': 80,\n",
              " 'Machine Learning Engineer': 50,\n",
              " 'AI Specialist': 30}"
            ]
          },
          "metadata": {},
          "execution_count": 36
        }
      ]
    },
    {
      "cell_type": "code",
      "source": [
        "job_postings = {'Data Scientist': 120, 'Data Analyst': 80, 'Machine Learning Engineer': 50}\n",
        "job_postings.pop('Machine Learning Engineer')\n",
        "job_postings"
      ],
      "metadata": {
        "colab": {
          "base_uri": "https://localhost:8080/"
        },
        "id": "2kEURMKrXvqG",
        "outputId": "229f46a1-d962-4e74-f877-fb5463717f28"
      },
      "execution_count": null,
      "outputs": [
        {
          "output_type": "execute_result",
          "data": {
            "text/plain": [
              "{'Data Scientist': 120, 'Data Analyst': 80}"
            ]
          },
          "metadata": {},
          "execution_count": 37
        }
      ]
    },
    {
      "cell_type": "code",
      "source": [
        "job_postings1 = {'Data Scientist': 120, 'Data Analyst': 80}\n",
        "job_postings2 = {'Machine Learning Engineer': 50, 'AI Specialist': 30}\n",
        "job_postings1.update(job_postings2)\n",
        "job_postings1"
      ],
      "metadata": {
        "colab": {
          "base_uri": "https://localhost:8080/"
        },
        "id": "JenOfK84Y9ym",
        "outputId": "4fea6cbb-4d4d-4a40-e788-e93bc433c762"
      },
      "execution_count": null,
      "outputs": [
        {
          "output_type": "execute_result",
          "data": {
            "text/plain": [
              "{'Data Scientist': 120,\n",
              " 'Data Analyst': 80,\n",
              " 'Machine Learning Engineer': 50,\n",
              " 'AI Specialist': 30}"
            ]
          },
          "metadata": {},
          "execution_count": 38
        }
      ]
    },
    {
      "cell_type": "code",
      "source": [
        "job_details = {'Data Scientist': {'postings': 120, 'average_salary': 120000},\n",
        "               'Data Analyst': {'postings': 80, 'average_salary': 80000},\n",
        "               'Machine Learning Engineer': {'postings': 50, 'average_salary': 110000}}\n",
        "job_details"
      ],
      "metadata": {
        "colab": {
          "base_uri": "https://localhost:8080/"
        },
        "id": "9A0MUxf_ZtLY",
        "outputId": "0c6202d6-f765-4348-c2e2-13573a92cc03"
      },
      "execution_count": null,
      "outputs": [
        {
          "output_type": "execute_result",
          "data": {
            "text/plain": [
              "{'Data Scientist': {'postings': 120, 'average_salary': 120000},\n",
              " 'Data Analyst': {'postings': 80, 'average_salary': 80000},\n",
              " 'Machine Learning Engineer': {'postings': 50, 'average_salary': 110000}}"
            ]
          },
          "metadata": {},
          "execution_count": 39
        }
      ]
    },
    {
      "cell_type": "markdown",
      "source": [
        "# Sets"
      ],
      "metadata": {
        "id": "6_1qcgUrdWLg"
      }
    },
    {
      "cell_type": "code",
      "source": [
        "unique_job_titles = {'Data Scientist', 'Data Analyst', 'Machine Learning Engineer'}\n",
        "unique_job_titles.add('AI Specialist')\n",
        "unique_job_titles"
      ],
      "metadata": {
        "colab": {
          "base_uri": "https://localhost:8080/"
        },
        "id": "9UsIYI4wbrhj",
        "outputId": "d8e67949-e054-443c-a2a4-78ab0e36f0af"
      },
      "execution_count": null,
      "outputs": [
        {
          "output_type": "execute_result",
          "data": {
            "text/plain": [
              "{'AI Specialist',\n",
              " 'Data Analyst',\n",
              " 'Data Scientist',\n",
              " 'Machine Learning Engineer'}"
            ]
          },
          "metadata": {},
          "execution_count": 40
        }
      ]
    },
    {
      "cell_type": "code",
      "source": [
        "unique_job_titles = {'Data Scientist', 'Data Analyst', 'Machine Learning Engineer'}\n",
        "unique_job_titles.remove('Data Analyst')\n",
        "unique_job_titles"
      ],
      "metadata": {
        "colab": {
          "base_uri": "https://localhost:8080/"
        },
        "id": "nI4oyD0EdpY6",
        "outputId": "76f58074-20b1-4086-9427-d2304776e45f"
      },
      "execution_count": null,
      "outputs": [
        {
          "output_type": "execute_result",
          "data": {
            "text/plain": [
              "{'Data Scientist', 'Machine Learning Engineer'}"
            ]
          },
          "metadata": {},
          "execution_count": 41
        }
      ]
    },
    {
      "cell_type": "code",
      "source": [
        "job_locations = ['New York', 'San Francisco', 'New York', 'Austin', 'San Francisco']\n",
        "job_locations = set(job_locations)\n",
        "job_locations"
      ],
      "metadata": {
        "colab": {
          "base_uri": "https://localhost:8080/"
        },
        "id": "m8yo5DoteBtw",
        "outputId": "2293ee9a-62e1-46c4-9b47-75e90e78ce4f"
      },
      "execution_count": null,
      "outputs": [
        {
          "output_type": "execute_result",
          "data": {
            "text/plain": [
              "{'Austin', 'New York', 'San Francisco'}"
            ]
          },
          "metadata": {},
          "execution_count": 42
        }
      ]
    },
    {
      "cell_type": "code",
      "source": [
        "skills_set1 = {'Python', 'SQL', 'Tableau'}\n",
        "skills_set2 = {'R', 'SQL', 'Machine Learning'}\n",
        "all_skills = skills_set1.union(skills_set2)\n",
        "all_skills"
      ],
      "metadata": {
        "colab": {
          "base_uri": "https://localhost:8080/"
        },
        "id": "IxfY9Y5geWN8",
        "outputId": "da4523d3-e387-4896-b299-26da4fb09d45"
      },
      "execution_count": null,
      "outputs": [
        {
          "output_type": "execute_result",
          "data": {
            "text/plain": [
              "{'Machine Learning', 'Python', 'R', 'SQL', 'Tableau'}"
            ]
          },
          "metadata": {},
          "execution_count": 43
        }
      ]
    },
    {
      "cell_type": "code",
      "source": [
        "job_roles = ('Data Scientist', 'Data Analyst', 'Machine Learning Engineer')\n",
        "job_roles[1]"
      ],
      "metadata": {
        "colab": {
          "base_uri": "https://localhost:8080/",
          "height": 35
        },
        "id": "fmNeSnRXe5u6",
        "outputId": "56c2cc50-d2c3-49a8-f413-136d62decfa4"
      },
      "execution_count": null,
      "outputs": [
        {
          "output_type": "execute_result",
          "data": {
            "text/plain": [
              "'Data Analyst'"
            ],
            "application/vnd.google.colaboratory.intrinsic+json": {
              "type": "string"
            }
          },
          "metadata": {},
          "execution_count": 44
        }
      ]
    },
    {
      "cell_type": "code",
      "source": [
        "job_roles = ('Data Scientist', 'Data Analyst', 'Machine Learning Engineer')\n",
        "extended_job_roles = job_roles + ('AI specialist',)\n",
        "extended_job_roles\n"
      ],
      "metadata": {
        "colab": {
          "base_uri": "https://localhost:8080/"
        },
        "id": "ETQRt9PdhgA7",
        "outputId": "3a20a630-6ba9-44d8-ad7d-d6e5736e4e24"
      },
      "execution_count": null,
      "outputs": [
        {
          "output_type": "execute_result",
          "data": {
            "text/plain": [
              "('Data Scientist',\n",
              " 'Data Analyst',\n",
              " 'Machine Learning Engineer',\n",
              " 'AI specialist')"
            ]
          },
          "metadata": {},
          "execution_count": 45
        }
      ]
    },
    {
      "cell_type": "code",
      "source": [
        "job_roles = ('Data Scientist', 'Data Analyst', 'Machine Learning Engineer')\n",
        "new_roles = list(job_roles)\n",
        "new_roles.remove('Data Analyst')\n",
        "new_roles\n",
        "\n",
        "job_roles2 = tuple(new_roles)\n",
        "job_roles2"
      ],
      "metadata": {
        "colab": {
          "base_uri": "https://localhost:8080/"
        },
        "id": "N6Fz8Kk8iJi8",
        "outputId": "e6493e20-13c0-4d76-b720-6f001b1314be"
      },
      "execution_count": null,
      "outputs": [
        {
          "output_type": "execute_result",
          "data": {
            "text/plain": [
              "('Data Scientist', 'Machine Learning Engineer')"
            ]
          },
          "metadata": {},
          "execution_count": 46
        }
      ]
    },
    {
      "cell_type": "code",
      "source": [
        "job_postings = (120, 80, 50)\n",
        "\n",
        "data_scientist_postings, data_analyst_postings, ml_engineer_postings = job_postings\n",
        "print(data_scientist_postings)\n",
        "print(data_analyst_postings)\n",
        "print(ml_engineer_postings)"
      ],
      "metadata": {
        "colab": {
          "base_uri": "https://localhost:8080/"
        },
        "id": "wPXD0ehWjMa9",
        "outputId": "1d0effc0-e344-479c-812e-f626e6b43943"
      },
      "execution_count": null,
      "outputs": [
        {
          "output_type": "stream",
          "name": "stdout",
          "text": [
            "120\n",
            "80\n",
            "50\n"
          ]
        }
      ]
    },
    {
      "cell_type": "code",
      "source": [
        "job_details = (('Data Scientist', 120), ('Data Analyst', 80), ('Machine Learning Engineer', 50))\n",
        "job_details[2][1]"
      ],
      "metadata": {
        "colab": {
          "base_uri": "https://localhost:8080/"
        },
        "id": "eQwEXl9okTiY",
        "outputId": "2c0072eb-c6bb-4cfe-9fda-d97f3107c624"
      },
      "execution_count": null,
      "outputs": [
        {
          "output_type": "execute_result",
          "data": {
            "text/plain": [
              "50"
            ]
          },
          "metadata": {},
          "execution_count": 48
        }
      ]
    },
    {
      "cell_type": "markdown",
      "source": [
        "# Operators part 2"
      ],
      "metadata": {
        "id": "am-y8-x3y1gg"
      }
    },
    {
      "cell_type": "code",
      "source": [
        "job_title1 = 'Data Engineer'\n",
        "job_title2 = 'Data Scientist'\n",
        "\n",
        "job_title1 is not job_title2"
      ],
      "metadata": {
        "colab": {
          "base_uri": "https://localhost:8080/"
        },
        "id": "M8OIJAX2kyoy",
        "outputId": "d5a7b43f-a23f-4d1f-a6d2-52582b683cd3"
      },
      "execution_count": null,
      "outputs": [
        {
          "output_type": "execute_result",
          "data": {
            "text/plain": [
              "True"
            ]
          },
          "metadata": {},
          "execution_count": 49
        }
      ]
    },
    {
      "cell_type": "code",
      "source": [
        "job_locations = ['New York', 'San Francisco', 'Austin']\n",
        "'New York' in job_locations"
      ],
      "metadata": {
        "colab": {
          "base_uri": "https://localhost:8080/"
        },
        "id": "NOgx_pVazBPH",
        "outputId": "c5ffe4bc-6e26-42fc-8f02-7215185f7de2"
      },
      "execution_count": null,
      "outputs": [
        {
          "output_type": "execute_result",
          "data": {
            "text/plain": [
              "True"
            ]
          },
          "metadata": {},
          "execution_count": 50
        }
      ]
    },
    {
      "cell_type": "code",
      "source": [
        "job_title = 'Data Analyst'\n",
        "job_description = 'Data Scientist at Tech Corp'\n",
        "\n",
        "job_title not in job_description"
      ],
      "metadata": {
        "colab": {
          "base_uri": "https://localhost:8080/"
        },
        "id": "MiBTSh6OzRA8",
        "outputId": "cc50238c-0c81-428c-98db-2b0957060f46"
      },
      "execution_count": null,
      "outputs": [
        {
          "output_type": "execute_result",
          "data": {
            "text/plain": [
              "True"
            ]
          },
          "metadata": {},
          "execution_count": 51
        }
      ]
    },
    {
      "cell_type": "code",
      "source": [
        "job_titles = ['Data Scientist', 'Data Analyst', 'Machine Learning Engineer']\n",
        "\n",
        "'Data Scientist' and 'Machine Learning Engineer' in job_titles"
      ],
      "metadata": {
        "colab": {
          "base_uri": "https://localhost:8080/"
        },
        "id": "NSa3L2REzle2",
        "outputId": "4468c82f-5ce6-47c5-de4d-a130459c9dd0"
      },
      "execution_count": null,
      "outputs": [
        {
          "output_type": "execute_result",
          "data": {
            "text/plain": [
              "True"
            ]
          },
          "metadata": {},
          "execution_count": 52
        }
      ]
    },
    {
      "cell_type": "code",
      "source": [
        "salary1 = 100000\n",
        "salary2 = 50000\n",
        "\n",
        "result = salary1 | salary2\n",
        "result"
      ],
      "metadata": {
        "colab": {
          "base_uri": "https://localhost:8080/"
        },
        "id": "FkdxtFr0z7S0",
        "outputId": "a53580b4-d76f-4286-ad3f-614bda794650"
      },
      "execution_count": null,
      "outputs": [
        {
          "output_type": "execute_result",
          "data": {
            "text/plain": [
              "116720"
            ]
          },
          "metadata": {},
          "execution_count": 53
        }
      ]
    },
    {
      "cell_type": "markdown",
      "source": [
        "# Loops"
      ],
      "metadata": {
        "id": "xkauU-iSOTLB"
      }
    },
    {
      "cell_type": "code",
      "source": [
        "job_titles = ['Data Scientist', 'Data Analyst', 'Machine Learning Engineer']\n",
        "\n",
        "for job in job_titles:\n",
        "  print(job)"
      ],
      "metadata": {
        "colab": {
          "base_uri": "https://localhost:8080/"
        },
        "id": "aGS1nYwd0Wlj",
        "outputId": "563ba112-f354-4819-8f55-4ad909368471"
      },
      "execution_count": null,
      "outputs": [
        {
          "output_type": "stream",
          "name": "stdout",
          "text": [
            "Data Scientist\n",
            "Data Analyst\n",
            "Machine Learning Engineer\n"
          ]
        }
      ]
    },
    {
      "cell_type": "code",
      "source": [
        "job_postings = [5, 10, 15, 20, 25]\n",
        "\n",
        "total_postings = 0\n",
        "index = 0\n",
        "\n",
        "while index < len(job_postings):\n",
        "  total_postings += job_postings[index]\n",
        "  index += 1\n",
        "\n",
        "print(total_postings)"
      ],
      "metadata": {
        "colab": {
          "base_uri": "https://localhost:8080/"
        },
        "id": "oCnlcXjIOd_y",
        "outputId": "3eeea02b-e3c5-4bac-9882-09b82eb2ae7e"
      },
      "execution_count": null,
      "outputs": [
        {
          "output_type": "stream",
          "name": "stdout",
          "text": [
            "75\n"
          ]
        }
      ]
    },
    {
      "cell_type": "code",
      "source": [
        "job_titles = ['Data Scientist', 'Data Analyst', 'Machine Learning Engineer']\n",
        "\n",
        "index = 0\n",
        "\n",
        "for index, job in enumerate(job_titles, start = 0):\n",
        "  print(f'{index}: {job}')"
      ],
      "metadata": {
        "colab": {
          "base_uri": "https://localhost:8080/"
        },
        "id": "zzwgukIhQtFN",
        "outputId": "5687c88a-fc05-419b-a21f-8b86af31a073"
      },
      "execution_count": null,
      "outputs": [
        {
          "output_type": "stream",
          "name": "stdout",
          "text": [
            "0: Data Scientist\n",
            "1: Data Analyst\n",
            "2: Machine Learning Engineer\n"
          ]
        }
      ]
    },
    {
      "cell_type": "code",
      "source": [
        "job_titles = ['Data Scientist', 'Data Analyst', 'Machine Learning Engineer', 'Software Engineer']\n",
        "\n",
        "index = 0\n",
        "while index < len(job_titles):\n",
        "    if 'Engineer' in job_titles[index]:\n",
        "        print(job_titles[index])\n",
        "        break\n",
        "    index += 1"
      ],
      "metadata": {
        "colab": {
          "base_uri": "https://localhost:8080/"
        },
        "id": "DVUGyQ-MRJLZ",
        "outputId": "6c79d798-8772-43c7-b0d4-be5b75fcb56a"
      },
      "execution_count": null,
      "outputs": [
        {
          "output_type": "stream",
          "name": "stdout",
          "text": [
            "Machine Learning Engineer\n"
          ]
        }
      ]
    },
    {
      "cell_type": "code",
      "source": [
        "positions_skills = {\n",
        "    'Data Scientist': ['Python', 'R'],\n",
        "    'Data Analyst': ['SQL', 'Excel'],\n",
        "    'Machine Learning Engineer': ['Python', 'TensorFlow']\n",
        "}\n",
        "\n",
        "for role, skills in positions_skills.items():\n",
        "  for skill in skills:\n",
        "    print(f'The role of {role} requires proficiency in {skill}.')\n"
      ],
      "metadata": {
        "colab": {
          "base_uri": "https://localhost:8080/"
        },
        "id": "4Ktnovy5ToQu",
        "outputId": "e4737030-1103-4457-d61f-15858e27dc19"
      },
      "execution_count": null,
      "outputs": [
        {
          "output_type": "stream",
          "name": "stdout",
          "text": [
            "The role of Data Scientist requires proficiency in Python.\n",
            "The role of Data Scientist requires proficiency in R.\n",
            "The role of Data Analyst requires proficiency in SQL.\n",
            "The role of Data Analyst requires proficiency in Excel.\n",
            "The role of Machine Learning Engineer requires proficiency in Python.\n",
            "The role of Machine Learning Engineer requires proficiency in TensorFlow.\n"
          ]
        }
      ]
    },
    {
      "cell_type": "markdown",
      "source": [
        "# List comprehension"
      ],
      "metadata": {
        "id": "iRA0yWlB1KVB"
      }
    },
    {
      "cell_type": "code",
      "source": [
        "salaries_usd = [100000, 120000, 80000, 90000]\n",
        "\n",
        "salaries_eur = [x*0.85 for x in salaries_usd]\n",
        "\n",
        "salaries_eur"
      ],
      "metadata": {
        "id": "LGs-psymV31B",
        "colab": {
          "base_uri": "https://localhost:8080/"
        },
        "outputId": "9a4394ce-ce12-4a84-c560-d3c80b1d2b80"
      },
      "execution_count": null,
      "outputs": [
        {
          "output_type": "execute_result",
          "data": {
            "text/plain": [
              "[85000.0, 102000.0, 68000.0, 76500.0]"
            ]
          },
          "metadata": {},
          "execution_count": 59
        }
      ]
    },
    {
      "cell_type": "code",
      "source": [
        "job_experience = {'Data Scientist': 3, 'Data Analyst': 1, 'Machine Learning Specialist': 4, 'Data Engineer': 2}\n",
        "\n",
        "jobs = [j for j, e in job_experience.items() if e > 2]\n",
        "jobs"
      ],
      "metadata": {
        "colab": {
          "base_uri": "https://localhost:8080/"
        },
        "id": "SV1dGVqm1bUn",
        "outputId": "f7fe43de-8d2c-4d78-911f-23abe2cc0277"
      },
      "execution_count": null,
      "outputs": [
        {
          "output_type": "execute_result",
          "data": {
            "text/plain": [
              "['Data Scientist', 'Machine Learning Specialist']"
            ]
          },
          "metadata": {},
          "execution_count": 60
        }
      ]
    },
    {
      "cell_type": "code",
      "source": [
        "job_salary_dicts = [{'job_title': 'Data Scientist', 'salary': 100000}, {'job_title': 'Data Analyst', 'salary': 120000},\n",
        " {'job_title': 'Data Engineer', 'salary': 80000}, {'job_title': 'Machine Learning Engineer', 'salary': 90000}]\n",
        "\n",
        "job_salary_dicts"
      ],
      "metadata": {
        "colab": {
          "base_uri": "https://localhost:8080/"
        },
        "id": "DNqva1fM2clQ",
        "outputId": "056db757-db8c-4e02-828a-190c4c07587d"
      },
      "execution_count": null,
      "outputs": [
        {
          "output_type": "execute_result",
          "data": {
            "text/plain": [
              "[{'job_title': 'Data Scientist', 'salary': 100000},\n",
              " {'job_title': 'Data Analyst', 'salary': 120000},\n",
              " {'job_title': 'Data Engineer', 'salary': 80000},\n",
              " {'job_title': 'Machine Learning Engineer', 'salary': 90000}]"
            ]
          },
          "metadata": {},
          "execution_count": 61
        }
      ]
    },
    {
      "cell_type": "code",
      "source": [
        "jobs = [j['job_title'] for j in job_salary_dicts if j['salary'] > 90000]\n",
        "jobs"
      ],
      "metadata": {
        "colab": {
          "base_uri": "https://localhost:8080/"
        },
        "id": "GiREgsBH5XUq",
        "outputId": "24559641-8f03-423a-a1cc-07ed9137e941"
      },
      "execution_count": null,
      "outputs": [
        {
          "output_type": "execute_result",
          "data": {
            "text/plain": [
              "['Data Scientist', 'Data Analyst']"
            ]
          },
          "metadata": {},
          "execution_count": 62
        }
      ]
    },
    {
      "cell_type": "markdown",
      "source": [
        "# Exercise Basic"
      ],
      "metadata": {
        "id": "pjdAXifQE3b0"
      }
    },
    {
      "cell_type": "code",
      "source": [
        "# Define data science job roles and required skills\n",
        "job_roles = [\n",
        "    {'role': 'Data Analyst', 'skills': ['Python', 'SQL', 'Excel']},\n",
        "    {'role': 'Data Scientist', 'skills': ['Python', 'R', 'Machine Learning', 'Deep Learning']},\n",
        "    {'role': 'Machine Learning Engineer', 'skills': ['Python', 'TensorFlow', 'PyTorch', 'Scikit-Learn']},\n",
        "    {'role': 'Data Engineer', 'skills': ['Python', 'Apache Spark', 'Hadoop', 'SQL']},\n",
        "    {'role': 'Business Intelligence Analyst', 'skills': ['Python', 'SQL', 'Tableau', 'Power BI', 'Excel']},\n",
        "    {'role': 'Quantitative Analyst', 'skills': ['R', 'Python', 'MATLAB', 'Statistics']},\n",
        "    {'role': 'Operations Analyst', 'skills': ['Python', 'SQL', 'Data Visualization', 'Process Improvement']},\n",
        "    {'role': 'Database Administrator', 'skills': ['SQL', 'Oracle', 'MySQL', 'Database Management']},\n",
        "    {'role': 'AI Engineer', 'skills': ['Python', 'TensorFlow', 'PyTorch', 'Computer Vision']},\n",
        "    {'role': 'Statistician', 'skills': ['R', 'SAS', 'Python', 'Statistical Modeling']}\n",
        "]\n",
        "# My skills\n",
        "my_skills = ['Python', 'SQL', 'Excel']"
      ],
      "metadata": {
        "id": "Plg3eHzN9kiW"
      },
      "execution_count": null,
      "outputs": []
    },
    {
      "cell_type": "code",
      "source": [
        "qualified_jobs = []\n",
        "\n",
        "for job in job_roles:\n",
        "  qualified = True\n",
        "\n",
        "  for skill in my_skills:\n",
        "      if skill not in job['skills']:\n",
        "        qualified = False\n",
        "        break\n",
        "  if qualified:\n",
        "    qualified_jobs.append(job['role'])\n",
        "\n",
        "qualified_jobs\n"
      ],
      "metadata": {
        "colab": {
          "base_uri": "https://localhost:8080/"
        },
        "id": "audjZVNWI8ic",
        "outputId": "76bfd6a1-6604-4e68-fba1-3f5c9d50e26c"
      },
      "execution_count": null,
      "outputs": [
        {
          "output_type": "execute_result",
          "data": {
            "text/plain": [
              "['Data Analyst', 'Business Intelligence Analyst']"
            ]
          },
          "metadata": {},
          "execution_count": 64
        }
      ]
    },
    {
      "cell_type": "code",
      "source": [
        "jobs = [job['role'] for job in job_roles if all(skill in my_skills for skill in job['skills'])]\n",
        "\n",
        "jobs"
      ],
      "metadata": {
        "colab": {
          "base_uri": "https://localhost:8080/"
        },
        "id": "zTfWLAHxE_J8",
        "outputId": "147025b1-771e-40f2-91bf-88c951cb14f9"
      },
      "execution_count": null,
      "outputs": [
        {
          "output_type": "execute_result",
          "data": {
            "text/plain": [
              "['Data Analyst']"
            ]
          },
          "metadata": {},
          "execution_count": 65
        }
      ]
    },
    {
      "cell_type": "markdown",
      "source": [
        "# Functions"
      ],
      "metadata": {
        "id": "1_JdQ2YoK4vt"
      }
    },
    {
      "cell_type": "code",
      "source": [
        "job_title = 'Data Scientist'\n",
        "keyword = 'Data'\n",
        "\n",
        "def job_title_contains(job_title, keyword = 'Data'):\n",
        "  if keyword in job_title:\n",
        "    return True\n",
        "\n",
        "\n",
        "job_title_contains(job_title, keyword)"
      ],
      "metadata": {
        "id": "Hm38PijRGd6I",
        "colab": {
          "base_uri": "https://localhost:8080/"
        },
        "outputId": "1fcd3d45-bc8a-42e3-8198-59a55396aa04"
      },
      "execution_count": null,
      "outputs": [
        {
          "output_type": "execute_result",
          "data": {
            "text/plain": [
              "True"
            ]
          },
          "metadata": {},
          "execution_count": 66
        }
      ]
    },
    {
      "cell_type": "code",
      "source": [
        "salaries = [95000, 120000, 105000, 90000, 130000]\n",
        "\n",
        "def avg_salary(salaries):\n",
        "  return sum(salaries)/len(salaries)\n",
        "\n",
        "\n",
        "avg_salary(salaries)"
      ],
      "metadata": {
        "colab": {
          "base_uri": "https://localhost:8080/"
        },
        "id": "F3pBsgOyLd0K",
        "outputId": "9596b154-53a5-46f4-8c22-803188583b06"
      },
      "execution_count": null,
      "outputs": [
        {
          "output_type": "execute_result",
          "data": {
            "text/plain": [
              "108000.0"
            ]
          },
          "metadata": {},
          "execution_count": 67
        }
      ]
    },
    {
      "cell_type": "code",
      "source": [
        "salaries = [95000, 120000, 105000, 90000, 130000]\n",
        "\n",
        "def salary_statistics(salaries):\n",
        "  return {\n",
        "      'min': min(salaries),\n",
        "      'max': max(salaries),\n",
        "      'avg': sum(salaries)/len(salaries)\n",
        "  }\n",
        "\n",
        "salary_statistics(salaries)"
      ],
      "metadata": {
        "colab": {
          "base_uri": "https://localhost:8080/"
        },
        "id": "hyOgEUwdM7Wp",
        "outputId": "e42681dd-4650-4c7f-c741-fe234bfd1ed1"
      },
      "execution_count": null,
      "outputs": [
        {
          "output_type": "execute_result",
          "data": {
            "text/plain": [
              "{'min': 90000, 'max': 130000, 'avg': 108000.0}"
            ]
          },
          "metadata": {},
          "execution_count": 68
        }
      ]
    },
    {
      "cell_type": "code",
      "source": [
        "job_postings = [\n",
        "    {'title': 'Data Scientist', 'location': 'New York', 'salary': 95000},\n",
        "    {'title': 'Data Analyst', 'location': 'San Francisco', 'salary': 85000},\n",
        "    {'title': 'Machine Learning Engineer', 'location': 'New York', 'salary': 115000}\n",
        "]\n",
        "\n",
        "\n",
        "def job_posting_summary(job_postings):\n",
        "  total_postings = len(job_postings)\n",
        "  avg_salary = sum(posting['salary'] for posting in job_postings)/ total_postings\n",
        "  unique_locations = list(set(posting['location'] for posting in job_postings))\n",
        "\n",
        "  return {\n",
        "      'total_postings': total_postings,\n",
        "      'average_salary': avg_salary,\n",
        "      'unique_location': unique_locations\n",
        "  }\n",
        "\n",
        "job_posting_summary(job_postings)\n"
      ],
      "metadata": {
        "colab": {
          "base_uri": "https://localhost:8080/"
        },
        "id": "Txtb1DkGORO1",
        "outputId": "2758b722-2c0d-46d8-e4f3-f61cc7bda841"
      },
      "execution_count": null,
      "outputs": [
        {
          "output_type": "execute_result",
          "data": {
            "text/plain": [
              "{'total_postings': 3,\n",
              " 'average_salary': 98333.33333333333,\n",
              " 'unique_location': ['New York', 'San Francisco']}"
            ]
          },
          "metadata": {},
          "execution_count": 69
        }
      ]
    },
    {
      "cell_type": "markdown",
      "source": [
        "# Lambda"
      ],
      "metadata": {
        "id": "cIyTe6yuim7Y"
      }
    },
    {
      "cell_type": "code",
      "source": [
        "salaries = [95000, 120000, 105000, 90000, 130000]\n",
        "\n",
        "average_salary = lambda salaries: sum(salaries)/len(salaries)\n",
        "average_salary(salaries)"
      ],
      "metadata": {
        "colab": {
          "base_uri": "https://localhost:8080/"
        },
        "id": "C11_qhSDSLts",
        "outputId": "85f00414-dcb7-480d-edef-1bfe687d8ab0"
      },
      "execution_count": null,
      "outputs": [
        {
          "output_type": "execute_result",
          "data": {
            "text/plain": [
              "108000.0"
            ]
          },
          "metadata": {},
          "execution_count": 70
        }
      ]
    },
    {
      "cell_type": "code",
      "source": [
        "job_titles = ['Data Scientist', 'Data Engineer', 'Machine Learning Engineer', 'Data Analyst']\n",
        "\n",
        "filtered_titles = list(filter((lambda job: 'Data' in job), job_titles))\n",
        "filtered_titles"
      ],
      "metadata": {
        "colab": {
          "base_uri": "https://localhost:8080/"
        },
        "id": "Uw040hDVjChL",
        "outputId": "0f37d3c3-d0b9-4822-a7e6-2078759efc2d"
      },
      "execution_count": null,
      "outputs": [
        {
          "output_type": "execute_result",
          "data": {
            "text/plain": [
              "['Data Scientist', 'Data Engineer', 'Data Analyst']"
            ]
          },
          "metadata": {},
          "execution_count": 71
        }
      ]
    },
    {
      "cell_type": "code",
      "source": [
        "job_postings = [\n",
        "    {'title': 'Data Scientist', 'skills': ['Python', 'SQL'], 'remote': True},\n",
        "    {'title': 'Data Analyst', 'skills': ['Excel', 'SQL'], 'remote': False},\n",
        "    {'title': 'Machine Learning Engineer', 'skills': ['Python', 'TensorFlow'], 'remote': True},\n",
        "    {'title': 'Software Developer', 'skills': ['Java', 'C++'], 'remote': True}\n",
        "]\n",
        "\n",
        "jobs = list(filter((lambda job: (job['remote'] and 'Python' in job['skills'])), job_postings))\n",
        "jobs"
      ],
      "metadata": {
        "colab": {
          "base_uri": "https://localhost:8080/"
        },
        "id": "mAvb0TJukiGn",
        "outputId": "cdb76bfa-2d62-43fa-a398-35edb591246a"
      },
      "execution_count": null,
      "outputs": [
        {
          "output_type": "execute_result",
          "data": {
            "text/plain": [
              "[{'title': 'Data Scientist', 'skills': ['Python', 'SQL'], 'remote': True},\n",
              " {'title': 'Machine Learning Engineer',\n",
              "  'skills': ['Python', 'TensorFlow'],\n",
              "  'remote': True}]"
            ]
          },
          "metadata": {},
          "execution_count": 72
        }
      ]
    },
    {
      "cell_type": "markdown",
      "source": [
        "# Modules"
      ],
      "metadata": {
        "id": "txHdMp_Zz8wa"
      }
    },
    {
      "cell_type": "code",
      "source": [
        "%%writefile salary_calculator.py\n",
        "\n",
        "def cal_annual_salary(hourly_wage, hours_per_week):\n",
        " \"\"\"\n",
        " Calculates the annual salary\n",
        "\n",
        " Takes two arguments: hourly_wage and hours_per_week\n",
        " as there are 52 weeks in a year it calcuates\n",
        " annual salary by multi[plying the  product of\n",
        " both two arguments.\n",
        " \"\"\"\n",
        "\n",
        " return(hourly_wage*hours_per_week)*52\n"
      ],
      "metadata": {
        "colab": {
          "base_uri": "https://localhost:8080/"
        },
        "id": "4QviWsAGm1V1",
        "outputId": "7099b4dc-f155-43de-b3d7-58866709fd21"
      },
      "execution_count": null,
      "outputs": [
        {
          "output_type": "stream",
          "name": "stdout",
          "text": [
            "Overwriting salary_calculator.py\n"
          ]
        }
      ]
    },
    {
      "cell_type": "code",
      "source": [
        "import salary_calculator\n",
        "\n",
        "annual_salary = salary_calculator.cal_annual_salary(50, 40)\n",
        "annual_salary"
      ],
      "metadata": {
        "colab": {
          "base_uri": "https://localhost:8080/"
        },
        "id": "3wUkAIoQ-4sl",
        "outputId": "308bb329-40e8-4bb5-984d-a9346bad3560"
      },
      "execution_count": null,
      "outputs": [
        {
          "output_type": "execute_result",
          "data": {
            "text/plain": [
              "104000"
            ]
          },
          "metadata": {},
          "execution_count": 74
        }
      ]
    },
    {
      "cell_type": "code",
      "source": [
        "%%writefile job_filter.py\n",
        "\n",
        "def filter_by_location(job_postings, location):\n",
        "    return [job for job in job_postings if job['location'] == location]\n"
      ],
      "metadata": {
        "colab": {
          "base_uri": "https://localhost:8080/"
        },
        "id": "mwWuNaEX30F6",
        "outputId": "0f11ee78-ecdd-4e5b-a30b-e92cf96ba3a6"
      },
      "execution_count": null,
      "outputs": [
        {
          "output_type": "stream",
          "name": "stdout",
          "text": [
            "Overwriting job_filter.py\n"
          ]
        }
      ]
    },
    {
      "cell_type": "code",
      "source": [
        "import job_filter\n",
        "\n",
        "job_postings = [\n",
        "    {'title': 'Data Scientist', 'location': 'New York'},\n",
        "    {'title': 'Data Analyst', 'location': 'San Francisco'},\n",
        "    {'title': 'Machine Learning Engineer', 'location': 'New York'}\n",
        "]\n",
        "\n",
        "jobs = job_filter.filter_by_location(job_postings, 'New York')\n",
        "jobs\n"
      ],
      "metadata": {
        "colab": {
          "base_uri": "https://localhost:8080/"
        },
        "id": "DqtTwqdy_KIz",
        "outputId": "29f22e4c-bdd1-4ac3-b10d-6a6462ec0bf2"
      },
      "execution_count": null,
      "outputs": [
        {
          "output_type": "execute_result",
          "data": {
            "text/plain": [
              "[{'title': 'Data Scientist', 'location': 'New York'},\n",
              " {'title': 'Machine Learning Engineer', 'location': 'New York'}]"
            ]
          },
          "metadata": {},
          "execution_count": 76
        }
      ]
    },
    {
      "cell_type": "markdown",
      "source": [
        "# Data cleanup"
      ],
      "metadata": {
        "id": "vkzs6kOXGzVF"
      }
    },
    {
      "cell_type": "code",
      "source": [
        "data_science_jobs = [\n",
        "    {'job_title': 'Data Scientist', 'job_skills': \"['Python', 'SQL', 'Machine Learning']\", 'job_date': '2023-05-12'},\n",
        "    {'job_title': 'Machine Learning Engineer', 'job_skills': \"['Python', 'TensorFlow', 'Deep Learning']\", 'job_date': '2023-05-15'},\n",
        "    {'job_title': 'Data Analyst', 'job_skills': \"['SQL', 'R', 'Tableau']\", 'job_date': '2023-05-10'},\n",
        "    {'job_title': 'Business Intelligence Developer', 'job_skills': \"['SQL', 'PowerBI', 'Data Warehousing']\", 'job_date': '2023-05-08'},\n",
        "    {'job_title': 'Data Engineer', 'job_skills': \"['Python', 'Spark', 'Hadoop']\", 'job_date': '2023-05-18'},\n",
        "    {'job_title': 'AI Specialist', 'job_skills': \"['Python', 'PyTorch', 'AI Ethics']\", 'job_date': '2023-05-20'}\n",
        "]\n"
      ],
      "metadata": {
        "id": "njBYuTjuHa3-"
      },
      "execution_count": null,
      "outputs": []
    },
    {
      "cell_type": "code",
      "source": [
        "date = data_science_jobs[0]['job_date']\n",
        "type(date)"
      ],
      "metadata": {
        "colab": {
          "base_uri": "https://localhost:8080/"
        },
        "id": "x-mn3NnKH6VB",
        "outputId": "675b1442-631d-4754-8205-1f34ebe081e7"
      },
      "execution_count": null,
      "outputs": [
        {
          "output_type": "execute_result",
          "data": {
            "text/plain": [
              "str"
            ]
          },
          "metadata": {},
          "execution_count": 78
        }
      ]
    },
    {
      "cell_type": "code",
      "source": [
        "from datetime import datetime\n",
        "\n",
        "for job in data_science_jobs:\n",
        "  job['job_date'] = datetime.strptime(job['job_date'], '%Y-%m-%d')\n",
        "\n",
        "data_science_jobs"
      ],
      "metadata": {
        "colab": {
          "base_uri": "https://localhost:8080/"
        },
        "id": "3mIaVqUNIBbm",
        "outputId": "17ed90f3-1ec7-46aa-cf7f-0cdd12d59dd7"
      },
      "execution_count": null,
      "outputs": [
        {
          "output_type": "execute_result",
          "data": {
            "text/plain": [
              "[{'job_title': 'Data Scientist',\n",
              "  'job_skills': \"['Python', 'SQL', 'Machine Learning']\",\n",
              "  'job_date': datetime.datetime(2023, 5, 12, 0, 0)},\n",
              " {'job_title': 'Machine Learning Engineer',\n",
              "  'job_skills': \"['Python', 'TensorFlow', 'Deep Learning']\",\n",
              "  'job_date': datetime.datetime(2023, 5, 15, 0, 0)},\n",
              " {'job_title': 'Data Analyst',\n",
              "  'job_skills': \"['SQL', 'R', 'Tableau']\",\n",
              "  'job_date': datetime.datetime(2023, 5, 10, 0, 0)},\n",
              " {'job_title': 'Business Intelligence Developer',\n",
              "  'job_skills': \"['SQL', 'PowerBI', 'Data Warehousing']\",\n",
              "  'job_date': datetime.datetime(2023, 5, 8, 0, 0)},\n",
              " {'job_title': 'Data Engineer',\n",
              "  'job_skills': \"['Python', 'Spark', 'Hadoop']\",\n",
              "  'job_date': datetime.datetime(2023, 5, 18, 0, 0)},\n",
              " {'job_title': 'AI Specialist',\n",
              "  'job_skills': \"['Python', 'PyTorch', 'AI Ethics']\",\n",
              "  'job_date': datetime.datetime(2023, 5, 20, 0, 0)}]"
            ]
          },
          "metadata": {},
          "execution_count": 79
        }
      ]
    },
    {
      "cell_type": "code",
      "source": [
        "skills = data_science_jobs[0]['job_skills']\n",
        "type(skills)"
      ],
      "metadata": {
        "colab": {
          "base_uri": "https://localhost:8080/"
        },
        "id": "T-7sVy-MIvZT",
        "outputId": "d328495e-740a-405d-8a38-5d260bbcac2e"
      },
      "execution_count": null,
      "outputs": [
        {
          "output_type": "execute_result",
          "data": {
            "text/plain": [
              "str"
            ]
          },
          "metadata": {},
          "execution_count": 80
        }
      ]
    },
    {
      "cell_type": "code",
      "source": [
        "import ast\n",
        "\n",
        "\n",
        "for job in data_science_jobs:\n",
        "\n",
        "  job['job_skills'] = ast.literal_eval(job['job_skills'])\n",
        "\n",
        "data_science_jobs\n"
      ],
      "metadata": {
        "colab": {
          "base_uri": "https://localhost:8080/"
        },
        "id": "WWYU26jzJ8NV",
        "outputId": "015b051a-9c75-4c51-dad4-a4d847b1ede0"
      },
      "execution_count": null,
      "outputs": [
        {
          "output_type": "execute_result",
          "data": {
            "text/plain": [
              "[{'job_title': 'Data Scientist',\n",
              "  'job_skills': ['Python', 'SQL', 'Machine Learning'],\n",
              "  'job_date': datetime.datetime(2023, 5, 12, 0, 0)},\n",
              " {'job_title': 'Machine Learning Engineer',\n",
              "  'job_skills': ['Python', 'TensorFlow', 'Deep Learning'],\n",
              "  'job_date': datetime.datetime(2023, 5, 15, 0, 0)},\n",
              " {'job_title': 'Data Analyst',\n",
              "  'job_skills': ['SQL', 'R', 'Tableau'],\n",
              "  'job_date': datetime.datetime(2023, 5, 10, 0, 0)},\n",
              " {'job_title': 'Business Intelligence Developer',\n",
              "  'job_skills': ['SQL', 'PowerBI', 'Data Warehousing'],\n",
              "  'job_date': datetime.datetime(2023, 5, 8, 0, 0)},\n",
              " {'job_title': 'Data Engineer',\n",
              "  'job_skills': ['Python', 'Spark', 'Hadoop'],\n",
              "  'job_date': datetime.datetime(2023, 5, 18, 0, 0)},\n",
              " {'job_title': 'AI Specialist',\n",
              "  'job_skills': ['Python', 'PyTorch', 'AI Ethics'],\n",
              "  'job_date': datetime.datetime(2023, 5, 20, 0, 0)}]"
            ]
          },
          "metadata": {},
          "execution_count": 81
        }
      ]
    },
    {
      "cell_type": "markdown",
      "source": [
        "# Classes"
      ],
      "metadata": {
        "id": "dCTHS8M1nqqG"
      }
    },
    {
      "cell_type": "code",
      "source": [
        "class DataScientistJobs:\n",
        "  def __init__(self, jobs):\n",
        "    self.jobs = jobs"
      ],
      "metadata": {
        "id": "zYx-sqrDntly"
      },
      "execution_count": null,
      "outputs": []
    },
    {
      "cell_type": "code",
      "source": [
        "data_science_jobs = [\n",
        "    {'job_title': 'Data Scientist', 'job_skills': \"Python, SQL, Machine Learning\"},\n",
        "    {'job_title': 'Data Analyst', 'job_skills': \"SQL, Excel, Python\"},\n",
        "    {'job_title': 'Machine Learning Engineer', 'job_skills': \"Python, TensorFlow, Keras\"}\n",
        "]"
      ],
      "metadata": {
        "id": "fNmVQK3L83Zo"
      },
      "execution_count": null,
      "outputs": []
    },
    {
      "cell_type": "code",
      "source": [
        "data_science_jobs"
      ],
      "metadata": {
        "colab": {
          "base_uri": "https://localhost:8080/"
        },
        "id": "qpkcDBvN9F9W",
        "outputId": "3c1e49f9-7085-4f72-ec9c-8cbd17636d22"
      },
      "execution_count": null,
      "outputs": [
        {
          "output_type": "execute_result",
          "data": {
            "text/plain": [
              "[{'job_title': 'Data Scientist',\n",
              "  'job_skills': 'Python, SQL, Machine Learning'},\n",
              " {'job_title': 'Data Analyst', 'job_skills': 'SQL, Excel, Python'},\n",
              " {'job_title': 'Machine Learning Engineer',\n",
              "  'job_skills': 'Python, TensorFlow, Keras'}]"
            ]
          },
          "metadata": {},
          "execution_count": 84
        }
      ]
    },
    {
      "cell_type": "code",
      "source": [
        "jobs_list = DataScientistJobs(data_science_jobs)\n",
        "jobs_list"
      ],
      "metadata": {
        "colab": {
          "base_uri": "https://localhost:8080/"
        },
        "id": "HSpP1rPw9IXf",
        "outputId": "ce6b978f-a4c1-4cfa-d92b-28757a23d0e7"
      },
      "execution_count": null,
      "outputs": [
        {
          "output_type": "execute_result",
          "data": {
            "text/plain": [
              "<__main__.DataScientistJobs at 0x7b4c182588e0>"
            ]
          },
          "metadata": {},
          "execution_count": 85
        }
      ]
    },
    {
      "cell_type": "code",
      "source": [
        "class DataScientistJobs:\n",
        "  def __init__(self, jobs):\n",
        "    self.jobs = jobs\n",
        "\n",
        "  def __str__(self):\n",
        "    jobs_str = 'Data Science Jobs:\\n'\n",
        "    for job in self.jobs:\n",
        "      jobs_str = jobs_str + f\"- {job['job_title']}: {job['job_skills']}\\n\"\n",
        "    return jobs_str"
      ],
      "metadata": {
        "id": "Bk663aDe9SUy"
      },
      "execution_count": null,
      "outputs": []
    },
    {
      "cell_type": "code",
      "source": [
        "jobs_list = DataScientistJobs(data_science_jobs)\n",
        "print(jobs_list)"
      ],
      "metadata": {
        "colab": {
          "base_uri": "https://localhost:8080/"
        },
        "id": "YWuV7mMW-h-A",
        "outputId": "52ffa7e1-469a-49e7-cb1e-9f4adbf38714"
      },
      "execution_count": null,
      "outputs": [
        {
          "output_type": "stream",
          "name": "stdout",
          "text": [
            "Data Science Jobs:\n",
            "- Data Scientist: Python, SQL, Machine Learning\n",
            "- Data Analyst: SQL, Excel, Python\n",
            "- Machine Learning Engineer: Python, TensorFlow, Keras\n",
            "\n"
          ]
        }
      ]
    },
    {
      "cell_type": "code",
      "source": [
        "class DataScientistJobs:\n",
        "  # This will initiate the class with jobs in it\n",
        "  def __init__(self, jobs):\n",
        "    self.jobs = jobs\n",
        "\n",
        "# This str is to print the jobs in a particular pattern as printed above which makes sure that the job titiles and skills are added to the jobs_str in for loop till printed\n",
        "  def __str__(self):\n",
        "    jobs_str = 'Data Science Jobs:\\n'\n",
        "    for job in self.jobs:\n",
        "      jobs_str = jobs_str + f\"- {job['job_title']}: {job['job_skills']}\\n\"\n",
        "    return jobs_str\n",
        "\n",
        "# Now, the task is to print job title seperately and job_skills as a list below it. So first we have to split the skills. This is now a method (and not a function) which will be available for this object\n",
        "  def split_skills(self):\n",
        "    for job in self.jobs:\n",
        "      job['job_skills'] = job['job_skills'].split(', ')"
      ],
      "metadata": {
        "id": "oAn5Jodg-kIu"
      },
      "execution_count": null,
      "outputs": []
    },
    {
      "cell_type": "code",
      "source": [
        "jobs_list = DataScientistJobs(data_science_jobs)\n",
        "print(jobs_list)"
      ],
      "metadata": {
        "colab": {
          "base_uri": "https://localhost:8080/"
        },
        "id": "AHK8nNSjBCDP",
        "outputId": "acca1425-7669-4796-dee3-baf308bf78ae"
      },
      "execution_count": null,
      "outputs": [
        {
          "output_type": "stream",
          "name": "stdout",
          "text": [
            "Data Science Jobs:\n",
            "- Data Scientist: Python, SQL, Machine Learning\n",
            "- Data Analyst: SQL, Excel, Python\n",
            "- Machine Learning Engineer: Python, TensorFlow, Keras\n",
            "\n"
          ]
        }
      ]
    },
    {
      "cell_type": "code",
      "source": [
        "class DataScientistJobs:\n",
        "  # This will initiate the class with jobs in it\n",
        "  def __init__(self, jobs):\n",
        "    self.jobs = jobs\n",
        "\n",
        "# This str is to print the jobs in a particular pattern as printed above which makes sure that the job titiles and skills are added to the jobs_str in for loop till printed\n",
        "  def __str__(self):\n",
        "    jobs_str = 'Data Science Jobs:\\n'\n",
        "    for job in self.jobs:\n",
        "      # This will check if the job skills is a list or still a string\n",
        "      if isinstance(job['job_skills'], list):\n",
        "        skills_str = ', '.join(job['job_skills'])\n",
        "      else:\n",
        "        skills_str = job['job_skills']\n",
        "      jobs_str = jobs_str + f\"- {job['job_title']}: {skills_str}\\n\"\n",
        "    return jobs_str\n",
        "\n",
        "# Now, the task is to print job title seperately and job_skills as a list below it. So first we have to split the skills. This is now a method (and not a function) which will be available for this object\n",
        "  def split_skills(self):\n",
        "    for job in self.jobs:\n",
        "      job['job_skills'] = job['job_skills'].split(', ')\n",
        "\n",
        "# Create a method to display the job title and skills for the jobs\n",
        "  def display_jobs(self):\n",
        "    for job in self.jobs:\n",
        "      print(f\"job Title: {job['job_title']}\")\n",
        "      print(\"Required skills:\")\n",
        "      for skill in job['job_skills']:\n",
        "        print(f\"- {skill}\")\n",
        "      print()\n"
      ],
      "metadata": {
        "id": "Rco4q0mDBFBN"
      },
      "execution_count": null,
      "outputs": []
    },
    {
      "cell_type": "code",
      "source": [
        "jobs_list = DataScientistJobs(data_science_jobs)\n",
        "jobs_list.split_skills()\n",
        "jobs_list.display_jobs()"
      ],
      "metadata": {
        "colab": {
          "base_uri": "https://localhost:8080/"
        },
        "id": "d9XfdupzEH-g",
        "outputId": "944239a1-68a6-498b-c862-d93f597bec91"
      },
      "execution_count": null,
      "outputs": [
        {
          "output_type": "stream",
          "name": "stdout",
          "text": [
            "job Title: Data Scientist\n",
            "Required skills:\n",
            "- Python\n",
            "- SQL\n",
            "- Machine Learning\n",
            "\n",
            "job Title: Data Analyst\n",
            "Required skills:\n",
            "- SQL\n",
            "- Excel\n",
            "- Python\n",
            "\n",
            "job Title: Machine Learning Engineer\n",
            "Required skills:\n",
            "- Python\n",
            "- TensorFlow\n",
            "- Keras\n",
            "\n"
          ]
        }
      ]
    },
    {
      "cell_type": "markdown",
      "source": [
        "## Problems for Classes"
      ],
      "metadata": {
        "id": "LQylf7kjE3yG"
      }
    },
    {
      "cell_type": "code",
      "source": [
        "class JobPosting:\n",
        "  def __init__(self, title, company, location):\n",
        "    self.title = title\n",
        "    self.company = company\n",
        "    self.location = location"
      ],
      "metadata": {
        "id": "0EP3k8onEVh-"
      },
      "execution_count": null,
      "outputs": []
    },
    {
      "cell_type": "code",
      "source": [
        "job = JobPosting('Data Scientist', 'Tech Innovations', 'New York')"
      ],
      "metadata": {
        "id": "9HQSiViNFhZl"
      },
      "execution_count": null,
      "outputs": []
    },
    {
      "cell_type": "code",
      "source": [
        "job"
      ],
      "metadata": {
        "colab": {
          "base_uri": "https://localhost:8080/"
        },
        "id": "A80lm5PnFqM_",
        "outputId": "28b1c688-0f37-4bd1-d4f9-080d96eb96cc"
      },
      "execution_count": null,
      "outputs": [
        {
          "output_type": "execute_result",
          "data": {
            "text/plain": [
              "<__main__.JobPosting at 0x7b4c1827c760>"
            ]
          },
          "metadata": {},
          "execution_count": 94
        }
      ]
    },
    {
      "cell_type": "code",
      "source": [
        "print(job.title)\n",
        "print(job.company)\n",
        "print(job.location)"
      ],
      "metadata": {
        "colab": {
          "base_uri": "https://localhost:8080/"
        },
        "id": "nnx21CLpFrm0",
        "outputId": "ce75ba03-2c54-4747-b9ae-a30661a4eefd"
      },
      "execution_count": null,
      "outputs": [
        {
          "output_type": "stream",
          "name": "stdout",
          "text": [
            "Data Scientist\n",
            "Tech Innovations\n",
            "New York\n"
          ]
        }
      ]
    },
    {
      "cell_type": "code",
      "source": [
        "class JobPosting:\n",
        "  def __init__(self, title, company, location, salary):\n",
        "    self.title = title\n",
        "    self.company = company\n",
        "    self.location = location\n",
        "    self.salary = salary\n",
        "\n",
        "  def to_dict(self):\n",
        "    return{\n",
        "        'title': self.title,\n",
        "        'company': self.company,\n",
        "        'location': self.location,\n",
        "        'salary': self.salary\n",
        "    }"
      ],
      "metadata": {
        "id": "b7vEvz3mFwZT"
      },
      "execution_count": null,
      "outputs": []
    },
    {
      "cell_type": "code",
      "source": [
        "job = JobPosting('Data Scientist', 'Tech Innovations', 'New York', 120000)\n",
        "\n",
        "print(job.to_dict())"
      ],
      "metadata": {
        "colab": {
          "base_uri": "https://localhost:8080/"
        },
        "id": "pHd0ZqW8Gqjk",
        "outputId": "eb0b0d9f-ca61-4c62-c0e4-8bf16d2d7e63"
      },
      "execution_count": null,
      "outputs": [
        {
          "output_type": "stream",
          "name": "stdout",
          "text": [
            "{'title': 'Data Scientist', 'company': 'Tech Innovations', 'location': 'New York', 'salary': 120000}\n"
          ]
        }
      ]
    },
    {
      "cell_type": "code",
      "source": [
        "class JobPosting:\n",
        "  def __init__(self, title, company, location, salary):\n",
        "    self.title = title\n",
        "    self.company = company\n",
        "    self.location = location\n",
        "    self.salary = salary\n",
        "\n",
        "  def compare_salary(self, other_job):\n",
        "    if self.salary > other_job.salary:\n",
        "      return self.title\n",
        "    else:\n",
        "      return other_job.title"
      ],
      "metadata": {
        "id": "Ikf1TG9WGybk"
      },
      "execution_count": null,
      "outputs": []
    },
    {
      "cell_type": "code",
      "source": [
        "job1 = JobPosting('Data Scientist', 'Tech Innovations', 'New York', 120000)\n",
        "job2 = JobPosting('Data Analyst', 'Data Driven Co', 'San Francisco', 140000)\n",
        "\n",
        "print(job1.compare_salary(job2))"
      ],
      "metadata": {
        "colab": {
          "base_uri": "https://localhost:8080/"
        },
        "id": "igbldmwPIPwb",
        "outputId": "ab7b3afd-36a9-4ae3-9218-f5163b19cdcb"
      },
      "execution_count": null,
      "outputs": [
        {
          "output_type": "stream",
          "name": "stdout",
          "text": [
            "Data Analyst\n"
          ]
        }
      ]
    },
    {
      "cell_type": "markdown",
      "source": [],
      "metadata": {
        "id": "8Gsc-t5tw7Nq"
      }
    },
    {
      "cell_type": "code",
      "source": [],
      "metadata": {
        "id": "I50lVUSJIS3b"
      },
      "execution_count": null,
      "outputs": []
    }
  ]
}