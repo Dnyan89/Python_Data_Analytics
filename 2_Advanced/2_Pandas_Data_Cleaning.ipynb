{
 "cells": [
  {
   "cell_type": "code",
   "execution_count": 1,
   "metadata": {},
   "outputs": [],
   "source": [
    "# Importing Libraries\n",
    "import pandas as pd\n",
    "from datasets import load_dataset\n",
    "import matplotlib.pyplot as plt\n",
    "\n",
    "# Loading Data\n",
    "dataset = load_dataset('lukebarousse/data_jobs')\n",
    "df = dataset['train'].to_pandas()\n",
    "\n",
    "# Data Cleanup\n",
    "df['job_posted_date'] = pd.to_datetime(df['job_posted_date'])"
   ]
  },
  {
   "cell_type": "markdown",
   "metadata": {},
   "source": [
    "## Problems"
   ]
  },
  {
   "cell_type": "code",
   "execution_count": 2,
   "metadata": {},
   "outputs": [
    {
     "data": {
      "text/plain": [
       "(785741, 22003)"
      ]
     },
     "execution_count": 2,
     "metadata": {},
     "output_type": "execute_result"
    }
   ],
   "source": [
    "# 1_Problem Statement: \n",
    "# Remove rows where the salary_year_avg column has missing values. Display the number of rows before and after removing.\n",
    "\n",
    "rows_before = len(df)\n",
    "\n",
    "df_cleaned = df.dropna(subset = ['salary_year_avg'])\n",
    "rows_after = len(df_cleaned)\n",
    "\n",
    "rows_before, rows_after"
   ]
  },
  {
   "cell_type": "code",
   "execution_count": 3,
   "metadata": {},
   "outputs": [
    {
     "data": {
      "text/plain": [
       "(785741, 17218)"
      ]
     },
     "execution_count": 3,
     "metadata": {},
     "output_type": "execute_result"
    }
   ],
   "source": [
    "# 2_Problem Statement:\n",
    "# Remove duplicate rows from the DataFrame based on the job_location column. Display the number of rows before and after removing duplicates.\n",
    "\n",
    "rows_before = len(df)\n",
    "\n",
    "df_unique = df.drop_duplicates(subset=['job_location'])\n",
    "rows_after = len(df_unique)\n",
    "\n",
    "rows_before, rows_after"
   ]
  },
  {
   "cell_type": "code",
   "execution_count": 4,
   "metadata": {},
   "outputs": [
    {
     "data": {
      "text/plain": [
       "(0    Unknown\n",
       " 1    Unknown\n",
       " 2    Unknown\n",
       " 3    Unknown\n",
       " 4    Unknown\n",
       " 5    Unknown\n",
       " 6    Unknown\n",
       " 7    Unknown\n",
       " 8    Unknown\n",
       " 9    Unknown\n",
       " Name: salary_rate, dtype: object,\n",
       " 0    Unknown\n",
       " 1    Unknown\n",
       " 2    Unknown\n",
       " 3    Unknown\n",
       " 4    Unknown\n",
       " 5    Unknown\n",
       " 6    Unknown\n",
       " 7    Unknown\n",
       " 8    Unknown\n",
       " 9    Unknown\n",
       " Name: salary_rate, dtype: object)"
      ]
     },
     "execution_count": 4,
     "metadata": {},
     "output_type": "execute_result"
    }
   ],
   "source": [
    "# 3_Problem Statement:\n",
    "# Fill missing values in the salary_rate column with the string 'Unknown'. Display the first 10 rows of the salary_rate column before and after filling.\n",
    "\n",
    "rate_before = df['salary_rate'].head(10)\n",
    "\n",
    "df_filled = df.fillna({'salary_rate': 'Unknown'})\n",
    "rate_after = df_filled['salary_rate'].head(10)\n",
    "\n",
    "rate_after, rate_after\n",
    "\n"
   ]
  },
  {
   "cell_type": "code",
   "execution_count": null,
   "metadata": {},
   "outputs": [],
   "source": []
  }
 ],
 "metadata": {
  "kernelspec": {
   "display_name": "python_course",
   "language": "python",
   "name": "python3"
  },
  "language_info": {
   "codemirror_mode": {
    "name": "ipython",
    "version": 3
   },
   "file_extension": ".py",
   "mimetype": "text/x-python",
   "name": "python",
   "nbconvert_exporter": "python",
   "pygments_lexer": "ipython3",
   "version": "3.11.9"
  }
 },
 "nbformat": 4,
 "nbformat_minor": 2
}
